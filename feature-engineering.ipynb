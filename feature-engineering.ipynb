{
 "cells": [
  {
   "cell_type": "markdown",
   "id": "d2b49c7b",
   "metadata": {},
   "source": [
    "# COMP 3610 Project"
   ]
  },
  {
   "cell_type": "markdown",
   "id": "5198365f",
   "metadata": {},
   "source": [
    "### A PREDICTIVE MODEL FOR ELECTORAL OUTCOMES IN TRINIDAD & TOBAGO"
   ]
  },
  {
   "cell_type": "markdown",
   "id": "93922ead",
   "metadata": {},
   "source": [
    "Christophe Gittens  \n",
    "Maia Neptune       \n",
    "Zidane Timothy     "
   ]
  },
  {
   "cell_type": "code",
   "execution_count": null,
   "id": "aa14c636",
   "metadata": {},
   "outputs": [],
   "source": [
    "# initialize Program\n",
    "# %pip install requests beautifulsoup4 python-csv\n",
    "# %pip install pandas\n",
    "\n",
    "import pandas as pd\n",
    "import numpy as np\n",
    "import csv\n",
    "import os\n",
    "import requests\n",
    "from bs4 import BeautifulSoup\n",
    "\n",
    "from sklearn.feature_selection import SelectKBest\n",
    "from sklearn.feature_selection import chi2\n",
    "csvs_path = \"csvs\""
   ]
  },
  {
   "cell_type": "markdown",
   "id": "07da9e37",
   "metadata": {},
   "source": [
    "# Loading the datasets"
   ]
  },
  {
   "cell_type": "markdown",
   "id": "f5501724",
   "metadata": {},
   "source": [
    "### Electoral Data"
   ]
  },
  {
   "cell_type": "code",
   "execution_count": null,
   "id": "affb851a",
   "metadata": {},
   "outputs": [],
   "source": [
    "election_results = pd.read_excel('Data/collated-tt-election-results.xlsx', sheet_name=['2007', '2010', '2015','2020'], skiprows=[0,1,2,3,4])\n",
    "\n",
    "# headers = \n",
    "# Access individual sheets using sheet names\n",
    "sheet_1 = election_results['2007']\n",
    "sheet_2 = election_results['2010']\n",
    "sheet_3 = election_results['2015']\n",
    "sheet_4 = election_results['2020']"
   ]
  },
  {
   "cell_type": "code",
   "execution_count": null,
   "id": "fa58f790",
   "metadata": {},
   "outputs": [],
   "source": [
    "sheet_1.to_csv('election2007.csv')"
   ]
  },
  {
   "cell_type": "markdown",
   "id": "22f9b0e2",
   "metadata": {},
   "source": [
    "2015"
   ]
  },
  {
   "cell_type": "markdown",
   "id": "beb189f3",
   "metadata": {},
   "source": [
    "Sourcing macroeconomic data from the World Bank API. \n",
    "We will examine the the impact of the following:\n",
    "Trinidad and Tobago's Debt to GDP ratio.\n",
    "Trinidad and Tobago's GDP.\n",
    "Trinidad and Tobago's Inflation.\n",
    "Trinidad and Tobago's Government Expenditure\n",
    "Trinidad and Tobago's Unemployment Rate. "
   ]
  },
  {
   "cell_type": "markdown",
   "id": "25458141",
   "metadata": {},
   "source": [
    "### Debt to GDP"
   ]
  },
  {
   "cell_type": "code",
   "execution_count": null,
   "id": "f937af8d",
   "metadata": {},
   "outputs": [],
   "source": [
    "cols = [\"Date\", \"Central Government Domestic Debt to GDP Ratio (%)\",\n",
    "        \"Central Government External Debt to GDP Ratio (%)\",\n",
    "        \"Central Government Total Debt to GDP Ratio (%)\",\n",
    "        \"Contingent Liabilities Debt to GDP Ratio (%)\",\n",
    "        \"Gross Public Sector Debt to GDP Ratio (%)\", \n",
    "        \"Net Public Sector Debt to GDP Ratio (%)\"\n",
    "        ]\n",
    "df_debt_annual = pd.read_csv(r'csvs/Debt Annual  Central Bank of Trinidad and Tobago.csv',\n",
    "                             usecols = cols, low_memory = True)\n",
    "df_debt_annual"
   ]
  },
  {
   "cell_type": "markdown",
   "id": "80bfc75c",
   "metadata": {},
   "source": [
    "### GDP"
   ]
  },
  {
   "cell_type": "code",
   "execution_count": null,
   "id": "9e780d95",
   "metadata": {},
   "outputs": [],
   "source": [
    "\n",
    "\n",
    "# url = 'https://api.worldbank.org/v2/country/TT/indicator/NY.GDP.MKTP.CD?format=json'\n",
    "# response = requests.get(url)\n",
    "\n",
    "# if response:\n",
    "#     data = response.json()\n",
    "#     tt_gdp = data[1]\n",
    "#     df_gdp = pd.DataFrame(tt_gdp)\n",
    "#     df_gdp.to_csv(os.path.join(csvs_path,r'tt_gdp.csv'))\n",
    "\n",
    "# else:\n",
    "#     print(\"Response is not 200.\")"
   ]
  },
  {
   "cell_type": "markdown",
   "id": "6affe756",
   "metadata": {},
   "source": [
    "### Inflation"
   ]
  },
  {
   "cell_type": "code",
   "execution_count": null,
   "id": "1845e60b",
   "metadata": {},
   "outputs": [],
   "source": [
    "cols = [\"Date\", \"Date\",\n",
    "        \"Annual Average Percent Change in the Index of Retail Prices - Inflation Rate (%)\",\n",
    "        \"Unemployment Rate (%)\",\"WTI Crude Oil Price (US$/bbl)\",\n",
    "        \"Henry Hub Natural Gas Price (US$/mmbtu)\",\n",
    "        \"Net Official Reserves (US$Mn)\"\n",
    "        ]\n",
    "df_inflation_annual = pd.read_csv(r'csvs/Selected Economic Indicators Annual  Central Bank of Trinidad and Tobago.csv',\n",
    "                             usecols = cols, low_memory = True)"
   ]
  },
  {
   "cell_type": "code",
   "execution_count": null,
   "id": "3998ebc5",
   "metadata": {},
   "outputs": [],
   "source": [
    "url = 'https://api.worldbank.org/v2/country/TT/indicator/FP.CPI.TOTL.ZG?format=json'\n",
    "response = requests.get(url)\n",
    "\n",
    "if response:\n",
    "    data = response.json()\n",
    "    tt_inflation = data[1]\n",
    "    df_inflation = pd.DataFrame(tt_inflation)\n",
    "    df_inflation.to_csv(os.path.join(csvs_path,r'tt_inflation.csv'))\n",
    "\n",
    "else:\n",
    "    print(\"Response is not 200 for inflation.\")\n"
   ]
  },
  {
   "cell_type": "markdown",
   "id": "e62043a5",
   "metadata": {},
   "source": [
    "### Unemployment rate"
   ]
  },
  {
   "cell_type": "code",
   "execution_count": null,
   "id": "194581a2",
   "metadata": {},
   "outputs": [],
   "source": [
    "# cols = [\"Date\", \"Unemployment Rate (%)\"\n",
    "#         ]\n",
    "# df_unemployment_annual = pd.read_csv(r'csvs\\Selected Economic Indicators Annual  Central Bank of Trinidad and Tobago.csv',\n",
    "#                              usecols = cols, low_memory = True)"
   ]
  },
  {
   "cell_type": "code",
   "execution_count": null,
   "id": "e8507b24",
   "metadata": {},
   "outputs": [],
   "source": [
    "url = 'https://api.worldbank.org/v2/country/TT/indicator/SL.UEM.TOTL.ZS?format=json'\n",
    "response = requests.get(url)\n",
    "\n",
    "if response:\n",
    "    data = response.json()\n",
    "    tt_unemployment = data[1]\n",
    "    df = pd.DataFrame(tt_unemployment)\n",
    "    df.to_csv(os.path.join(csvs_path,r'tt_unemployment_rate.csv'))\n",
    "\n",
    "else:\n",
    "    print(\"Response is not 200.\")"
   ]
  },
  {
   "cell_type": "markdown",
   "id": "247e156d",
   "metadata": {},
   "source": [
    "### Government expenditure"
   ]
  },
  {
   "cell_type": "code",
   "execution_count": null,
   "id": "09451ec1",
   "metadata": {},
   "outputs": [],
   "source": [
    "df_expenditure = pd.read_csv(\"csvs/Public Finance Annual  Central Bank of Trinidad and Tobago.csv\")"
   ]
  },
  {
   "cell_type": "code",
   "execution_count": null,
   "id": "eeed9cbb",
   "metadata": {},
   "outputs": [],
   "source": [
    "# url = 'https://api.worldbank.org/v2/country/TT/indicator/GC.XPN.TOTL.GD.ZS?format=json'\n",
    "# response = requests.get(url)\n",
    "\n",
    "# if response:\n",
    "#     data = response.json()\n",
    "#     tt_expenditure = data[1]\n",
    "#     df_expenditure = pd.DataFrame(tt_expenditure)\n",
    "#     df_expenditure.to_csv(os.path.join(csvs_path,r'tt_gov_expenditure.csv'))\n",
    "\n",
    "# else:\n",
    "#     print(\"Response is not 200.\")"
   ]
  },
  {
   "cell_type": "markdown",
   "id": "1f601086",
   "metadata": {},
   "source": [
    "<!-- Debt_to_gdp -->"
   ]
  },
  {
   "cell_type": "code",
   "execution_count": null,
   "id": "170a879f",
   "metadata": {},
   "outputs": [],
   "source": [
    "# url = 'https://api.worldbank.org/v2/country/TT/indicator/GC.XPN.TOTL.GD.ZS?format=json'\n",
    "# response = requests.get(url)\n",
    "\n",
    "# if response:\n",
    "#     data = response.json()\n",
    "#     tt_debt = data[1]\n",
    "#     df = pd.DataFrame(tt_debt)\n",
    "#     df.to_csv(os.path.join(csvs_path,r'tt_debt_to_gdp.csv'))\n",
    "\n",
    "# else:\n",
    "#     print(\"Response is not 200.\")"
   ]
  },
  {
   "cell_type": "markdown",
   "id": "58d3cbac",
   "metadata": {},
   "source": [
    "### Homicide rate"
   ]
  },
  {
   "cell_type": "code",
   "execution_count": null,
   "id": "8dd32df5",
   "metadata": {},
   "outputs": [],
   "source": [
    "\n",
    "\n",
    "# url ='https://www.macrotrends.net/global-metrics/countries/TTO/trinidad-and-tobago/murder-homicide-rate'\n",
    "\n",
    "# headers = {\n",
    "#     \"User-Agent\": \"Mozilla/5.0 (Windows NT 10.0; Win64; x64) AppleWebKit/537.36 (KHTML, like Gecko) Chrome/58.0.3029.110 Safari/537.36\"\n",
    "# }\n",
    "\n",
    "# response = requests.get(url, headers=headers)\n",
    "\n",
    "# if response:\n",
    "#     soup = BeautifulSoup(response.content, 'html.parser')\n",
    "\n",
    "#     div = soup.find('div', {'class': 'col-xs-6'})\n",
    "#     crime_data =[]\n",
    "#     if div:\n",
    "#         table = div.find_all('table', {'class':'historical_data_table table table-striped table-bordered'})\n",
    "#         table = table[0]\n",
    "#     if table:\n",
    "#         for row in table.find_all('tr')[2:]:\n",
    "#             cells = row.find_all('td')\n",
    "#             if len(cells) == 3:\n",
    "#                 year = cells[0].get_text(strip=True)\n",
    "#                 rate_per_100k = cells[1].get_text(strip=True)\n",
    "#                 annual_change = cells[2].get_text(strip=True)\n",
    "#                 crime_data.append([year,rate_per_100k,annual_change])\n",
    "\n",
    "#         df_homicide_rate = pd.DataFrame(crime_data, columns=['Year','Rate_per_100k_Population','Annual_change'])\n",
    "\n",
    "#         df_homicide_rate.to_csv(os.path.join(csvs_path,r'tt_homicide_rate.csv'), index=False)\n",
    "# else:\n",
    "#     print('Response is not 200.')"
   ]
  },
  {
   "cell_type": "markdown",
   "id": "9e88baf0",
   "metadata": {},
   "source": [
    "### Migration Rates"
   ]
  },
  {
   "cell_type": "code",
   "execution_count": null,
   "id": "947945af",
   "metadata": {},
   "outputs": [],
   "source": [
    "\n",
    "\n",
    "# url = \"https://www.macrotrends.net/global-metrics/countries/TTO/trinidad-and-tobago/net-migration#:~:text=The%20net%20migration%20rate%20for,a%200.35%25%20decline%20from%202022.\"\n",
    "# headers = {\n",
    "#     \"User-Agent\": \"Mozilla/5.0 (Windows NT 10.0; Win64; x64) AppleWebKit/537.36 (KHTML, like Gecko) Chrome/58.0.3029.110 Safari/537.36\"\n",
    "# }\n",
    "\n",
    "# response = requests.get(url, headers=headers)\n",
    "\n",
    "# if response.status_code == 200:\n",
    "#     soup = BeautifulSoup(response.text, \"html.parser\")\n",
    "#     # print(soup.prettify())  # Check page structure\n",
    "# else:\n",
    "#     print(\"Failed to fetch page:\", response.status_code)\n",
    "\n",
    "# tables = soup.find_all(\"table\")\n",
    "\n",
    "# # ensure there are at least 2 tables before accessing the second one\n",
    "# if len(tables) >= 2:\n",
    "#     second_table = tables[1]  # Get the second table\n",
    "#     df_migration_rate = pd.read_html(str(second_table))[0]\n",
    "#     df_migration_rate.columns = [\"Year\", \"Net Migration Rate\", \"Growth Rate\"]\n",
    "#     print(df_migration_rate)\n",
    "# else:\n",
    "#     print(\"Second table not found!\")\n",
    "\n",
    "# df_migration_rate.to_csv(os.path.join(csvs_path, r'tt_migration_rate.csv'), index=False)\n"
   ]
  },
  {
   "cell_type": "markdown",
   "id": "1b696124",
   "metadata": {},
   "source": [
    "### Currency Exchange Rate"
   ]
  },
  {
   "cell_type": "code",
   "execution_count": null,
   "id": "fbd0a3e0",
   "metadata": {},
   "outputs": [],
   "source": [
    "df_exchange_rate = pd.read_csv(\"csvs/Exchange Rates Annual  Central Bank of Trinidad and Tobago (1).csv\")\n",
    "df_exchange_rate"
   ]
  },
  {
   "cell_type": "markdown",
   "id": "90b82108",
   "metadata": {},
   "source": [
    "# Preprocessing"
   ]
  },
  {
   "cell_type": "markdown",
   "id": "91ba3929",
   "metadata": {},
   "source": [
    "From the central bank wevsite n.d. is No Data or NA so that is taken in consideration moving forward. Also all dates were kept as string as they just indicate the yeat"
   ]
  },
  {
   "cell_type": "markdown",
   "id": "5f855855",
   "metadata": {},
   "source": [
    "## Electoral Data"
   ]
  },
  {
   "cell_type": "code",
   "execution_count": null,
   "id": "5df283b2",
   "metadata": {},
   "outputs": [],
   "source": [
    "sheet_1"
   ]
  },
  {
   "cell_type": "code",
   "execution_count": null,
   "id": "38eeae58",
   "metadata": {},
   "outputs": [],
   "source": [
    "sheet_1.isna().sum()"
   ]
  },
  {
   "cell_type": "code",
   "execution_count": null,
   "id": "9f1973c7",
   "metadata": {},
   "outputs": [],
   "source": [
    "# sht_07, sht_10, sht_15, sht_20 = sheet_2007.iloc[3:], sheet_2010.iloc[3:], sheet_2015.iloc[3:], sheet_2020.iloc[3:]\n",
    "\n",
    "# print(sht_07)\n",
    "# print(sht_10)\n",
    "# print(sht_15)\n",
    "# print(sht_20)\n",
    "# sht_20"
   ]
  },
  {
   "cell_type": "code",
   "execution_count": null,
   "id": "5c0b48ca",
   "metadata": {},
   "outputs": [],
   "source": [
    "sheet_1.shape"
   ]
  },
  {
   "cell_type": "markdown",
   "id": "b442550a",
   "metadata": {},
   "source": [
    "Fixing headers"
   ]
  },
  {
   "cell_type": "markdown",
   "id": "cec4ac17",
   "metadata": {},
   "source": [
    "2007"
   ]
  },
  {
   "cell_type": "code",
   "execution_count": null,
   "id": "74116c0c",
   "metadata": {},
   "outputs": [],
   "source": [
    "cols= [\n",
    "            'ELECTORAL_DISTRICT', 'ELECTORATE', 'TOTAL_NUMBER_OF_VOTES_CAST',\n",
    "            'VOTER_TURNOUT', 'REJECTED_BALLOTS', 'VALID_VOTES', 'P.N.M._VOTES',\n",
    "            'P.N.M._VOTES_%', 'U.N.C._VOTES','U.N.C._VOTES_%', 'C.O.P._VOTES', \n",
    "            'C.O.P._VOTES_%', 'D.A.C._VOTES', 'D.A.C._VOTES_%', 'D.N.A._VOTES', \n",
    "            'D.N.A._VOTES_%', 'I.N.D_VOTES', 'I.N.D._VOTES_%'\n",
    "        ]\n",
    "sht_07 = sheet_1\n",
    "sht_07.columns = cols\n",
    "sht_07.fillna(0, inplace=True)\n",
    "sht_07"
   ]
  },
  {
   "cell_type": "markdown",
   "id": "e4cd5235",
   "metadata": {},
   "source": [
    "2010"
   ]
  },
  {
   "cell_type": "code",
   "execution_count": null,
   "id": "5368bfc7",
   "metadata": {},
   "outputs": [],
   "source": [
    "cols = [\n",
    "            'ELECTORAL_DISTRICT', 'ELECTORATE', 'TOTAL_NUMBER_OF_VOTES_CAST',\n",
    "            'VOTER_TURNOUT', 'REJECTED_BALLOTS', 'VALID_VOTES', 'P.N.M._VOTES',\n",
    "            'P.N.M._VOTES_%', 'U.N.C._VOTES','U.N.C._VOTES_%', 'C.O.P._VOTES', \n",
    "            'C.O.P._VOTES_%', 'N.N.V._VOTES', 'N.N.V._VOTES_%', 'T.O.P._VOTES', \n",
    "            'T.O.P._VOTES_%', 'T.H.C._VOTES', 'T.H.C._VOTES_%', 'I.N.D_VOTES', \n",
    "            'I.N.D._VOTES_%', 'T.T.N.C.P._VOTES', 'T.T.N.C.P._VOTES_%'\n",
    "        ]\n",
    "\n",
    "sht_10 = sheet_2\n",
    "sht_10.columns = cols\n",
    "sht_10.fillna(0, inplace=True)\n",
    "sht_10"
   ]
  },
  {
   "cell_type": "code",
   "execution_count": null,
   "id": "3bf29cb1",
   "metadata": {},
   "outputs": [],
   "source": [
    "cols = [\n",
    "            'ELECTORAL_DISTRICT', 'ELECTORATE', 'TOTAL_NUMBER_OF_VOTES_CAST',\n",
    "            'VOTER_TURNOUT', 'REJECTED_BALLOTS', 'VALID_VOTES', 'P.N.M._VOTES',\n",
    "            'P.N.M._VOTES_%', 'U.N.C._VOTES','U.N.C._VOTES_%', 'C.O.P._VOTES', \n",
    "            'C.O.P._VOTES_%', 'I.L.P._VOTES', 'I.L.P._VOTES_%', 'N.J.A.C._VOTES',\n",
    "            'N.J.A.C._VOTES_%','D.D.P._VOTES', 'D.D.P._VOTES_%', 'I.D.P._VOTES',\n",
    "            'I.D.P._VOTES_%', 'I.N.D_VOTES', 'I.N.D._VOTES_%', 'L.O.V.E._VOTES',\n",
    "            'L.O.V.E._VOTES_%', 'N.C.T._VOTES', 'N.C.T._VOTES_%','N.N.V._VOTES',\n",
    "            'N.N.V._VOTES_%','T.F._VOTES', 'T.F._VOTES_%', 'T.O.P._VOTES', \n",
    "            'T.O.P._VOTES_%', 'T.H.C._VOTES', 'T.H.C._VOTES_%', 'T.N.V._VOTES',\n",
    "            'T.N.V._VOTES_%', 'T.P.T._VOTES', 'T.P.T._VOTES_%', 'Y.E.P._VOTES', \n",
    "            'Y.E.P._VOTES_%', 'Y.O.U.R._VOTES', 'Y.O.U.R._VOTES_%',\n",
    "        ]\n",
    "sht_15 = sheet_3\n",
    "sht_15.columns = cols\n",
    "sht_15.fillna(0, inplace=True)\n",
    "sht_15"
   ]
  },
  {
   "cell_type": "markdown",
   "id": "c4ebc1ba",
   "metadata": {},
   "source": [
    "2020"
   ]
  },
  {
   "cell_type": "code",
   "execution_count": null,
   "id": "71b8ea5d",
   "metadata": {},
   "outputs": [],
   "source": [
    "cols = [\n",
    "            'ELECTORAL_DISTRICT', 'ELECTORATE', 'TOTAL_NUMBER_OF_VOTES_CAST',\n",
    "            'VOTER_TURNOUT', 'REJECTED_BALLOTS', 'VALID_VOTES', 'P.N.M._VOTES',\n",
    "            'P.N.M._VOTES_%', 'U.N.C._VOTES','U.N.C._VOTES_%','P.E.P._VOTES', \n",
    "            'P.E.P._VOTES_%', 'C.O.P._VOTES', 'C.O.P._VOTES_%', 'I.L.P._VOTES', \n",
    "            'I.L.P._VOTES_%', 'D.P.T._VOTES', 'D.P.T._VOTES_%', 'I.N.D_VOTES', \n",
    "            'I.N.D._VOTES_%','M.N.D._VOTES', 'M.N.D._VOTES_%', 'M.S.J._VOTES',\n",
    "            'M.S.J._VOTES_%', 'N.C.T._VOTES', 'N.C.T._VOTES_%','N.N.V._VOTES',\n",
    "            'N.N.V._VOTES_%','N.O.W._VOTES', 'N.O.W._VOTES_%', 'O.T.V._VOTES', \n",
    "            'O.T.V._VOTES_%', 'P.D.P._VOTES', 'P.D.P._VOTES_%', 'P.P._VOTES', \n",
    "            'P.P._VOTES_%', 'T.D.F._VOTES', 'T.D.F._VOTES_%', 'T.H.C._VOTES', \n",
    "            'T.H.C._VOTES_%', 'T.N.P._VOTES', 'T.N.P._VOTES_%', 'U.P.P._VOTES', \n",
    "            'U.P.P._VOTES_%', 'U.T.P._VOTES', 'U.T.P._VOTES_%'\n",
    "        ]\n",
    "sht_20 = sheet_4\n",
    "sht_20.columns = cols\n",
    "sht_20.fillna(0, inplace=True)\n",
    "sht_20"
   ]
  },
  {
   "cell_type": "markdown",
   "id": "04d5b666",
   "metadata": {},
   "source": [
    "## Debt to GDP cleaning"
   ]
  },
  {
   "cell_type": "code",
   "execution_count": null,
   "id": "34d1f264",
   "metadata": {},
   "outputs": [],
   "source": [
    "df_debt_annual"
   ]
  },
  {
   "cell_type": "code",
   "execution_count": null,
   "id": "3388ab65",
   "metadata": {},
   "outputs": [],
   "source": [
    "df_debt_annual.info()"
   ]
  },
  {
   "cell_type": "code",
   "execution_count": null,
   "id": "c1616944",
   "metadata": {},
   "outputs": [],
   "source": [
    "df_debt_annual[\"Date\"] = df_debt_annual[\"Date\"].astype(\"int64\")\n",
    "df_debt_annual.info()"
   ]
  },
  {
   "cell_type": "code",
   "execution_count": null,
   "id": "787f7fa9",
   "metadata": {},
   "outputs": [],
   "source": [
    "# Replace String values with numeric values and convert to float\n",
    "df_debt_annual[[\"Contingent Liabilities Debt to GDP Ratio (%)\",\n",
    "                \"Gross Public Sector Debt to GDP Ratio (%)\",\n",
    "                \"Net Public Sector Debt to GDP Ratio (%)\"]] = df_debt_annual[[\"Contingent Liabilities Debt to GDP Ratio (%)\",\n",
    "                \"Gross Public Sector Debt to GDP Ratio (%)\",\n",
    "                \"Net Public Sector Debt to GDP Ratio (%)\"]].replace(\"n.d\",0)\n",
    "\n",
    "df_debt_annual[[\"Contingent Liabilities Debt to GDP Ratio (%)\",\n",
    "                \"Gross Public Sector Debt to GDP Ratio (%)\",\n",
    "                \"Net Public Sector Debt to GDP Ratio (%)\"]] = df_debt_annual[[\"Contingent Liabilities Debt to GDP Ratio (%)\",\n",
    "                \"Gross Public Sector Debt to GDP Ratio (%)\",\n",
    "                \"Net Public Sector Debt to GDP Ratio (%)\"]].astype(float)"
   ]
  },
  {
   "cell_type": "code",
   "execution_count": null,
   "id": "afb80d08",
   "metadata": {},
   "outputs": [],
   "source": [
    "df_debt_annual.info()"
   ]
  },
  {
   "cell_type": "code",
   "execution_count": null,
   "id": "23f383a9",
   "metadata": {},
   "outputs": [],
   "source": [
    "df_debt_annual.describe()"
   ]
  },
  {
   "cell_type": "code",
   "execution_count": null,
   "id": "52297abf",
   "metadata": {},
   "outputs": [],
   "source": [
    "df_debt_annual.isna().sum()"
   ]
  },
  {
   "cell_type": "code",
   "execution_count": null,
   "id": "f4533112",
   "metadata": {},
   "outputs": [],
   "source": [
    "df_debt_annual.isna().any()"
   ]
  },
  {
   "cell_type": "markdown",
   "id": "9b70b0a1",
   "metadata": {},
   "source": [
    "The data for debt to gdp looks cleaned enough. "
   ]
  },
  {
   "cell_type": "markdown",
   "id": "c56db76d",
   "metadata": {},
   "source": [
    "## GDP"
   ]
  },
  {
   "cell_type": "code",
   "execution_count": null,
   "id": "999d0e0f",
   "metadata": {},
   "outputs": [],
   "source": [
    "df_gdp = pd.read_csv(\"csvs/tt_gdp.csv\")"
   ]
  },
  {
   "cell_type": "code",
   "execution_count": null,
   "id": "de4ff7dc",
   "metadata": {},
   "outputs": [],
   "source": [
    "df_gdp.info()"
   ]
  },
  {
   "cell_type": "code",
   "execution_count": null,
   "id": "c0b94a9a",
   "metadata": {},
   "outputs": [],
   "source": [
    "df_gdp[\"date\"] = df_gdp[\"date\"].astype(\"int64\")\n",
    "df_gdp.info()"
   ]
  },
  {
   "cell_type": "code",
   "execution_count": null,
   "id": "22587708",
   "metadata": {},
   "outputs": [],
   "source": [
    "df_gdp.isna().sum()"
   ]
  },
  {
   "cell_type": "code",
   "execution_count": null,
   "id": "4a832d85",
   "metadata": {},
   "outputs": [],
   "source": [
    "df_gdp.isna().all()"
   ]
  },
  {
   "cell_type": "code",
   "execution_count": null,
   "id": "4db21632",
   "metadata": {},
   "outputs": [],
   "source": [
    "df_gdp.describe()"
   ]
  },
  {
   "cell_type": "markdown",
   "id": "612a02e4",
   "metadata": {},
   "source": [
    "## Inflation"
   ]
  },
  {
   "cell_type": "code",
   "execution_count": null,
   "id": "f9919e8f",
   "metadata": {},
   "outputs": [],
   "source": [
    "df_inflation"
   ]
  },
  {
   "cell_type": "code",
   "execution_count": null,
   "id": "322da41b",
   "metadata": {},
   "outputs": [],
   "source": [
    "df_inflation.info()"
   ]
  },
  {
   "cell_type": "code",
   "execution_count": null,
   "id": "3f778148",
   "metadata": {},
   "outputs": [],
   "source": [
    "df_inflation[\"date\"] = df_inflation['date'].astype(\"int64\")\n",
    "df_inflation.info()"
   ]
  },
  {
   "cell_type": "code",
   "execution_count": null,
   "id": "cda9f6df",
   "metadata": {},
   "outputs": [],
   "source": [
    "df_inflation.isna().sum()"
   ]
  },
  {
   "cell_type": "code",
   "execution_count": null,
   "id": "e535f1cb",
   "metadata": {},
   "outputs": [],
   "source": [
    "df_inflation.isna().all()"
   ]
  },
  {
   "cell_type": "markdown",
   "id": "f9baaf34",
   "metadata": {},
   "source": [
    "The commented code is for inflation extractedd from the Central Bank of Trinidad and Tobago (CBTT) and is more concise"
   ]
  },
  {
   "cell_type": "code",
   "execution_count": null,
   "id": "3a361be9",
   "metadata": {},
   "outputs": [],
   "source": [
    "# df_inflation_annual.info()"
   ]
  },
  {
   "cell_type": "code",
   "execution_count": null,
   "id": "9602ba6c",
   "metadata": {},
   "outputs": [],
   "source": [
    "# df_inflation_annual.describe()"
   ]
  },
  {
   "cell_type": "code",
   "execution_count": null,
   "id": "26b53b0d",
   "metadata": {},
   "outputs": [],
   "source": [
    "# df_inflation_annual.isna().sum()"
   ]
  },
  {
   "cell_type": "markdown",
   "id": "3a2eab31",
   "metadata": {},
   "source": [
    "## Unemployment Values cleaning"
   ]
  },
  {
   "cell_type": "code",
   "execution_count": null,
   "id": "b3c16136",
   "metadata": {},
   "outputs": [],
   "source": [
    "df_unemployment = pd.read_csv(\"csvs/tt_unemployment_rate.csv\")\n",
    "\n",
    "# Convert all values in df_unemployment to more readable values\n",
    "df_unemployment['value'] = df_unemployment['value'].apply(lambda x: round(x, 2))\n",
    "df_unemployment.rename(columns={'value': 'Unemployment Rate (%)'}, inplace=True)\n",
    "df_unemployment"
   ]
  },
  {
   "cell_type": "code",
   "execution_count": null,
   "id": "d0ca35fb",
   "metadata": {},
   "outputs": [],
   "source": [
    "df_unemployment = df_unemployment.drop(columns={\"unit\", \"obs_status\", \"decimal\"})\n",
    "df_unemployment"
   ]
  },
  {
   "cell_type": "code",
   "execution_count": null,
   "id": "19cec66d",
   "metadata": {},
   "outputs": [],
   "source": [
    "df_unemployment.info()"
   ]
  },
  {
   "cell_type": "code",
   "execution_count": null,
   "id": "7acd6ad7",
   "metadata": {},
   "outputs": [],
   "source": [
    "df_unemployment[\"date\"] = df_unemployment['date'].astype(\"int64\")\n",
    "df_unemployment.info()"
   ]
  },
  {
   "cell_type": "code",
   "execution_count": null,
   "id": "601c6931",
   "metadata": {},
   "outputs": [],
   "source": [
    "df_unemployment.isna().sum()"
   ]
  },
  {
   "cell_type": "markdown",
   "id": "2aff869a",
   "metadata": {},
   "source": [
    "Since we are only looking at 2000/2002 onward we can drop all the empty rows since they are not part of our dataset"
   ]
  },
  {
   "cell_type": "code",
   "execution_count": null,
   "id": "5949a82e",
   "metadata": {},
   "outputs": [],
   "source": [
    "df_unemployment.dropna(subset=['Unemployment Rate (%)'], inplace=True)\n",
    "df_unemployment.isna().sum()"
   ]
  },
  {
   "cell_type": "code",
   "execution_count": null,
   "id": "25322552",
   "metadata": {},
   "outputs": [],
   "source": [
    "df_unemployment.isna().all()"
   ]
  },
  {
   "cell_type": "code",
   "execution_count": null,
   "id": "592e31a0",
   "metadata": {},
   "outputs": [],
   "source": [
    "df_unemployment"
   ]
  },
  {
   "cell_type": "code",
   "execution_count": null,
   "id": "59994167",
   "metadata": {},
   "outputs": [],
   "source": [
    "df_unemployment.describe()"
   ]
  },
  {
   "cell_type": "markdown",
   "id": "71b96528",
   "metadata": {},
   "source": [
    "The commented code is for inflation extractedd from the Central Bank of Trinidad and Tobago (CBTT) and is more concise"
   ]
  },
  {
   "cell_type": "code",
   "execution_count": null,
   "id": "64011fe0",
   "metadata": {},
   "outputs": [],
   "source": [
    "# df_unemployment_annual.info()"
   ]
  },
  {
   "cell_type": "code",
   "execution_count": null,
   "id": "e9190b40",
   "metadata": {},
   "outputs": [],
   "source": [
    "# df_unemployment_annual.describe()"
   ]
  },
  {
   "cell_type": "code",
   "execution_count": null,
   "id": "44118d29",
   "metadata": {},
   "outputs": [],
   "source": [
    "# df_unemployment_annual.isna().sum()"
   ]
  },
  {
   "cell_type": "code",
   "execution_count": null,
   "id": "213ee039",
   "metadata": {},
   "outputs": [],
   "source": [
    "# df_unemployment_annual.isna().any()"
   ]
  },
  {
   "cell_type": "markdown",
   "id": "2aa62ee1",
   "metadata": {},
   "source": [
    "## Government Expenditure"
   ]
  },
  {
   "cell_type": "code",
   "execution_count": null,
   "id": "a34447c4",
   "metadata": {},
   "outputs": [],
   "source": [
    "df_expenditure.info()"
   ]
  },
  {
   "cell_type": "code",
   "execution_count": null,
   "id": "55ed453a",
   "metadata": {},
   "outputs": [],
   "source": [
    "df_expenditure['Date'] = df_expenditure['Date'].astype(\"int64\")\n",
    "df_expenditure.info()"
   ]
  },
  {
   "cell_type": "code",
   "execution_count": null,
   "id": "d930904a",
   "metadata": {},
   "outputs": [],
   "source": [
    "df_expenditure.isna().sum()"
   ]
  },
  {
   "cell_type": "code",
   "execution_count": null,
   "id": "f9b73af0",
   "metadata": {},
   "outputs": [],
   "source": [
    "df_expenditure.isna().all()"
   ]
  },
  {
   "cell_type": "markdown",
   "id": "9cf81b76",
   "metadata": {},
   "source": [
    "Given the only important missing values are 2020 and 2000 expenditure values, we can source those two and drop the other rows that we are empty"
   ]
  },
  {
   "cell_type": "markdown",
   "id": "8b9d84c6",
   "metadata": {},
   "source": [
    "## Homicide Rate"
   ]
  },
  {
   "cell_type": "code",
   "execution_count": null,
   "id": "1db37224",
   "metadata": {},
   "outputs": [],
   "source": [
    "df_homicide_rate = pd.read_csv(r\"csvs/tt_homicide_rate.csv\") #rate per 100k for 2023 and 2023 sourced from statista.com others from macrotrend.com\n",
    "\n",
    "#pct_change will make Annual_change row for first value null\n",
    "df_homicide_rate['Annual_change'] = df_homicide_rate[\"Annual_change\"].replace(to_replace=' ', value=0)\n",
    "df_homicide_rate['Annual_change'] = df_homicide_rate[\"Annual_change\"].str.rstrip('%').astype('float')\n",
    "last_homicide_row = df_homicide_rate.iloc[-1:]\n",
    "\n",
    "df_homicide_rate= df_homicide_rate.sort_values(by='Year')\n",
    "df_homicide_rate['Annual_change'] = (df_homicide_rate['Rate_per_100k_Population'].pct_change()* 100).round(2) \n",
    "df_homicide_rate= df_homicide_rate.sort_values(by='Year', ascending=False)\n",
    "\n",
    "df_homicide_rate.iloc[-1:] = last_homicide_row\n",
    "\n",
    "df_homicide_rate"
   ]
  },
  {
   "cell_type": "code",
   "execution_count": null,
   "id": "ea44cafc",
   "metadata": {},
   "outputs": [],
   "source": [
    "df_homicide_by_div = pd.read_csv(r'csvs/tt_murders_by_division_2013_2024.csv')\n",
    "df_homicide_by_div['Year'] = df_homicide_by_div['Year'].astype('int64')\n",
    "df_homicide_by_div = pd.merge(df_homicide_rate, df_homicide_by_div, on='Year', how='outer')\n"
   ]
  },
  {
   "cell_type": "markdown",
   "id": "ffa1d01c",
   "metadata": {},
   "source": [
    "## Constituency/Division Specific Homicide Information\n",
    "Incase accuracy is low. This will be employed for the SVM."
   ]
  },
  {
   "cell_type": "code",
   "execution_count": null,
   "id": "7eb3b2ae",
   "metadata": {},
   "outputs": [],
   "source": [
    "#melting the df\n",
    "df_long_homicide_by_div = df_homicide_by_div.melt(id_vars=['Year', 'Rate_per_100k_Population', 'Annual_change','Total_murders_per_year'], \n",
    "                  var_name='Division', \n",
    "                  value_name='Murders')"
   ]
  },
  {
   "cell_type": "code",
   "execution_count": null,
   "id": "956e3f00",
   "metadata": {},
   "outputs": [],
   "source": [
    "def murder_estimate(division, df_long):\n",
    "    division_data = df_long[df_long['Division'] == division].copy()\n",
    "\n",
    "    murders_2013 = division_data[division_data['Year'] == 2013]['Murders'].values[0]\n",
    "\n",
    "    for year in range(2012, 1999, -1):\n",
    "        try:\n",
    "            pct_change = division_data[division_data['Year'] == year + 1]['Annual_change'].values[0]\n",
    "        except IndexError:\n",
    "            continue  \n",
    "\n",
    "        projected_murders = (murders_2013 / (1 + pct_change / 100)).round()\n",
    "\n",
    "        mask = (df_long['Year'] == year) & (df_long['Division'] == division)\n",
    "        if df_long.loc[mask, 'Murders'].isna().any():\n",
    "            df_long.loc[mask, 'Murders'] = projected_murders\n",
    "        else:\n",
    "            new_row = {\n",
    "                'Year': year,\n",
    "                'Division': division,\n",
    "                'Rate_per_100k_Population': np.nan,\n",
    "                'Annual_change': np.nan,\n",
    "                'Murders': projected_murders,\n",
    "                'Annual_change': np.nan\n",
    "            }\n",
    "            df_long = pd.concat([df_long, pd.DataFrame([new_row])], ignore_index=True)\n",
    "\n",
    "        murders_2013 = projected_murders\n",
    "\n",
    "    return df_long"
   ]
  },
  {
   "cell_type": "code",
   "execution_count": null,
   "id": "9590f8d1",
   "metadata": {},
   "outputs": [],
   "source": [
    "divisions = df_long_homicide_by_div['Division'].dropna().unique()\n",
    "\n",
    "for division in divisions:\n",
    "    df_long_homicide_by_div = murder_estimate(division, df_long_homicide_by_div)"
   ]
  },
  {
   "cell_type": "code",
   "execution_count": null,
   "id": "45228e8d",
   "metadata": {},
   "outputs": [],
   "source": [
    "#testing to see if data is accurate\n",
    "#quote \"When murder data are restricted to 2001-2013, the\n",
    "# largest proportion of murders in Trinidad and Tobago took place in the Port of Spain Division\n",
    "# (26.7 per cent). This was followed by the Northern Division (19.9 per cent), North Eastern\n",
    "# Division (13.3 per cent), and Western Division (12.3 per cent).\"\n",
    "\n",
    "subset = df_long_homicide_by_div[(df_long_homicide_by_div['Year'] >= 2001) & (df_long_homicide_by_div['Year'] <= 2013)]\n",
    "\n",
    "total_by_division = subset.groupby('Division')['Murders'].sum()\n",
    "grand_total = total_by_division.sum()\n",
    "\n",
    "division_percentages = (total_by_division / grand_total) * 100\n",
    "division_percentages = division_percentages.sort_values(ascending=False)\n",
    "print(division_percentages)\n",
    "\n"
   ]
  },
  {
   "cell_type": "markdown",
   "id": "fe08f890",
   "metadata": {},
   "source": [
    "From: 1. Crime-Trinidad and Tobago. 2. Crime prevention-Trinidad and Tobago. 3. ViolenceTrinidad and Tobago. 4. Violence-Prevention-Trinidad and Tobago. I. Inter-American\n",
    "Development Bank. Country Department Caribbean Group. II. Title. III. Series.\n",
    "IDB-TN-1062 \n",
    "\n",
    "\"When murder data are restricted to 2001-2013, the largest proportion of murders in Trinidad and Tobago took place in the Port of Spain Division (26.7 per cent). This was followed by the Northern Division (19.9 per cent), North Eastern Division (13.3 per cent), and Western Division (12.3 per cent).\"\n",
    "\n",
    "The difference in percentage in Port-Of-Spain can be accounted for due to the 2013 murder count starting off at 122 murders and slightly dropping. \n",
    " "
   ]
  },
  {
   "cell_type": "markdown",
   "id": "e982f936",
   "metadata": {},
   "source": [
    "## Migration Rates"
   ]
  },
  {
   "cell_type": "code",
   "execution_count": null,
   "id": "709b1f82",
   "metadata": {},
   "outputs": [],
   "source": [
    "df_migration_rate = pd.read_csv(\"csvs/tt_migration_rate.csv\")"
   ]
  },
  {
   "cell_type": "code",
   "execution_count": null,
   "id": "a8f94a57",
   "metadata": {},
   "outputs": [],
   "source": [
    "df_migration_rate.info()"
   ]
  },
  {
   "cell_type": "code",
   "execution_count": null,
   "id": "a6129b46",
   "metadata": {},
   "outputs": [],
   "source": [
    "df_migration_rate['Year'] = df_migration_rate['Year'].astype('int64')\n",
    "df_migration_rate.info()"
   ]
  },
  {
   "cell_type": "code",
   "execution_count": null,
   "id": "0f52d8e5",
   "metadata": {},
   "outputs": [],
   "source": [
    "df_migration_rate[\"Growth Rate\"] = (\n",
    "    df_migration_rate[\"Growth Rate\"]\n",
    "    .str.rstrip('%')\n",
    "    .astype('float')\n",
    ").round(4)\n",
    "\n",
    "df_migration_rate = df_migration_rate.rename(columns={\n",
    "    \"Growth Rate\": \"Growth Rate(in percent)\",\n",
    "    \"Year\": \"Year\",\n",
    "    \"Net Migration Rate\": \"Net Migration Rate\"\n",
    "})\n",
    "\n",
    "df_migration_rate"
   ]
  },
  {
   "cell_type": "code",
   "execution_count": null,
   "id": "94ecb2ee",
   "metadata": {},
   "outputs": [],
   "source": [
    "df_migration_rate.isna().sum()"
   ]
  },
  {
   "cell_type": "code",
   "execution_count": null,
   "id": "800d1192",
   "metadata": {},
   "outputs": [],
   "source": [
    "df_migration_rate.isna().any()"
   ]
  },
  {
   "cell_type": "code",
   "execution_count": null,
   "id": "ae955207",
   "metadata": {},
   "outputs": [],
   "source": [
    "df_migration_rate.describe()"
   ]
  },
  {
   "cell_type": "markdown",
   "id": "8f2ab2f8",
   "metadata": {},
   "source": [
    "# Putting Together Datasets for model"
   ]
  },
  {
   "cell_type": "code",
   "execution_count": null,
   "id": "bdac37f1",
   "metadata": {},
   "outputs": [],
   "source": [
    "# Ensure all date/year columns are named consistently for merging\n",
    "df_debt_annual.rename(columns={\"Date\": \"Year\"}, inplace=True)\n",
    "df_gdp.rename(columns={\"date\": \"Year\"}, inplace=True)\n",
    "df_inflation.rename(columns={\"date\": \"Year\"}, inplace=True)\n",
    "df_unemployment.rename(columns={\"date\": \"Year\"}, inplace=True)\n",
    "df_expenditure.rename(columns={\"Date\": \"Year\"}, inplace=True)\n",
    "df_migration_rate.rename(columns={\"Year\": \"Year\"}, inplace=True)\n",
    "df_homicide_rate.rename(columns={\"Year\": \"Year\"}, inplace=True)\n",
    "\n",
    "# Merge all dataframes on the \"Year\" column\n",
    "dataset = df_debt_annual.merge(df_gdp, on=\"Year\", how=\"outer\") \\\n",
    "                          .merge(df_inflation, on=\"Year\", how=\"outer\") \\\n",
    "                          .merge(df_unemployment, on=\"Year\", how=\"outer\") \\\n",
    "                          .merge(df_expenditure, on=\"Year\", how=\"outer\") \\\n",
    "                          .merge(df_migration_rate, on=\"Year\", how=\"outer\") \\\n",
    "                          .merge(df_homicide_rate, on=\"Year\", how=\"outer\")\n",
    "\n",
    "# Display the merged dataframe\n",
    "dataset"
   ]
  },
  {
   "cell_type": "code",
   "execution_count": null,
   "id": "94b0c4c2",
   "metadata": {},
   "outputs": [],
   "source": [
    "# Rename columns to more meaningful names\n",
    "dataset.rename(columns={\n",
    "    'id_x': 'Debt_ID',\n",
    "    'id_y': 'GDP_ID',\n",
    "    'value_x': 'Debt_Value',\n",
    "    'value_y': 'GDP_Value',\n",
    "    'value': 'Inflation_Value'\n",
    "}, inplace=True)\n",
    "\n",
    "# Display the updated dataset\n",
    "dataset.head()"
   ]
  },
  {
   "cell_type": "markdown",
   "id": "1a127b45",
   "metadata": {},
   "source": [
    "Dropping all the rows and columns we do not need. In this instance values that are after 2020 and before 2000"
   ]
  },
  {
   "cell_type": "code",
   "execution_count": null,
   "id": "2e1161ca",
   "metadata": {},
   "outputs": [],
   "source": [
    "dataset.dropna(subset=['Net Public Sector Debt to GDP Ratio (%)'], inplace=True)\n",
    "dataset.dropna(subset=['Rate_per_100k_Population'], inplace=True)\n",
    "dataset.drop(columns={\"unit_x\", \"obs_status_x\", \"unit_y\", \"country_y\", \"country_x\"}, inplace=True)\n",
    "\n",
    "dataset"
   ]
  },
  {
   "cell_type": "code",
   "execution_count": null,
   "id": "137c901a",
   "metadata": {},
   "outputs": [],
   "source": [
    "dataset.info()"
   ]
  },
  {
   "cell_type": "code",
   "execution_count": null,
   "id": "217c50c1",
   "metadata": {},
   "outputs": [],
   "source": [
    "print(dataset.corr)"
   ]
  },
  {
   "cell_type": "markdown",
   "id": "25ffdb04",
   "metadata": {},
   "source": [
    "# Determining values for Model"
   ]
  },
  {
   "cell_type": "markdown",
   "id": "9815d476",
   "metadata": {},
   "source": [
    "Compiling Unemployment Average ratio from 2007 to 2010, 2010 to 2015 and 2015 to 2020"
   ]
  },
  {
   "cell_type": "code",
   "execution_count": null,
   "id": "1a073635",
   "metadata": {},
   "outputs": [],
   "source": [
    "# calculate averages for the specified periods\n",
    "unemployment_avg_07_10 = dataset[(dataset['Year'] >= 2007) & (dataset['Year'] <= 2010)]['Annual_change'].mean()\n",
    "unemployment_avg_10_15 = dataset[(dataset['Year'] > 2010) & (dataset['Year'] <= 2015)]['Annual_change'].mean()\n",
    "unemployment_avg_15_20 = dataset[(dataset['Year'] > 2015) & (dataset['Year'] <= 2020)]['Annual_change'].mean()\n",
    "\n",
    "df_unemp_avg_07_10 = pd.DataFrame({'Period': ['2007-2010'], 'Average Unemployment Rate (%)': [unemployment_avg_07_10]})\n",
    "df_unemp_avg_10_15 = pd.DataFrame({'Period': ['2010-2015'], 'Average Unemployment Rate (%)': [unemployment_avg_10_15]})\n",
    "df_unemp_avg_15_20 = pd.DataFrame({'Period': ['2015-2020'], 'Average Unemployment Rate (%)': [unemployment_avg_15_20]})\n",
    "\n",
    "print(df_unemp_avg_07_10)\n",
    "print(df_unemp_avg_10_15)\n",
    "print(df_unemp_avg_15_20)"
   ]
  },
  {
   "cell_type": "markdown",
   "id": "c44af8ad",
   "metadata": {},
   "source": []
  },
  {
   "cell_type": "code",
   "execution_count": null,
   "id": "ee539cd8",
   "metadata": {},
   "outputs": [],
   "source": [
    "# calculate averages for the specified periods\n",
    "inflation_avg_07_10 = dataset[(dataset['Year'] >= 2007) & (dataset['Year'] <= 2010)]['Annual_change'].mean()\n",
    "inflation_avg_10_15 = dataset[(dataset['Year'] > 2010) & (dataset['Year'] <= 2015)]['Annual_change'].mean()\n",
    "inflation_avg_15_20 = dataset[(dataset['Year'] > 2015) & (dataset['Year'] <= 2020)]['Annual_change'].mean()\n",
    "\n",
    "df_inf_avg_07_10 = pd.DataFrame({'Period': ['2007-2010'], 'Average Inflation Rate (%)': [inflation_avg_07_10]})\n",
    "df_inf_avg_10_15 = pd.DataFrame({'Period': ['2010-2015'], 'Average Inflation Rate (%)': [inflation_avg_10_15]})\n",
    "df_inf_avg_15_20 = pd.DataFrame({'Period': ['2015-2020'], 'Average Inflation Rate (%)': [inflation_avg_15_20]})\n",
    "\n",
    "print(df_inf_avg_07_10)\n",
    "print(df_inf_avg_10_15)\n",
    "print(df_inf_avg_15_20)"
   ]
  },
  {
   "cell_type": "markdown",
   "id": "5b480e76",
   "metadata": {},
   "source": [
    "## Electoral Elasticity Calculations "
   ]
  },
  {
   "cell_type": "code",
   "execution_count": null,
   "id": "a9457e34",
   "metadata": {},
   "outputs": [],
   "source": [
    "# get the change in vote share for P.N.M., U.N.C., and C.O.P. between constituencies for the different years\n",
    "sht_10_share = sht_10[['ELECTORAL_DISTRICT', 'P.N.M._VOTES_%', 'U.N.C._VOTES_%', 'C.O.P._VOTES_%']]\n",
    "sht_07_share = sht_07[['ELECTORAL_DISTRICT', 'P.N.M._VOTES_%', 'U.N.C._VOTES_%', 'C.O.P._VOTES_%']]\n",
    "sht_15_share = sht_15[['ELECTORAL_DISTRICT', 'P.N.M._VOTES_%', 'U.N.C._VOTES_%', 'C.O.P._VOTES_%']]\n",
    "sht_20_share = sht_20[['ELECTORAL_DISTRICT', 'P.N.M._VOTES_%', 'U.N.C._VOTES_%', 'C.O.P._VOTES_%']]\n",
    "\n"
   ]
  },
  {
   "cell_type": "markdown",
   "id": "3715adfc",
   "metadata": {},
   "source": [
    "Calculate differences in vote percentages"
   ]
  },
  {
   "cell_type": "code",
   "execution_count": null,
   "id": "0d762d4a",
   "metadata": {},
   "outputs": [],
   "source": [
    "# calculate the difference in vote share\n",
    "diff_1 = sht_07_share.set_index('ELECTORAL_DISTRICT').sub(sht_10_share.set_index('ELECTORAL_DISTRICT'), axis=0)\n",
    "diff_1.reset_index(inplace=True)\n",
    "diff_1.rename(columns={\n",
    "\t'P.N.M._VOTES_%': 'P.N.M._VOTES_%_CHANGE',\n",
    "\t'U.N.C._VOTES_%': 'U.N.C._VOTES_%_CHANGE',\n",
    "\t'C.O.P._VOTES_%': 'C.O.P._VOTES_%_CHANGE'\n",
    "}, inplace=True)\n",
    "\n",
    "diff_2 = sht_10_share.set_index('ELECTORAL_DISTRICT').sub(sht_15_share.set_index('ELECTORAL_DISTRICT'), axis=0)\n",
    "diff_2.reset_index(inplace=True)\n",
    "diff_2.rename(columns={\n",
    "\t'P.N.M._VOTES_%': 'P.N.M._VOTES_%_CHANGE',\n",
    "\t'U.N.C._VOTES_%': 'U.N.C._VOTES_%_CHANGE',\n",
    "\t'C.O.P._VOTES_%': 'C.O.P._VOTES_%_CHANGE'\n",
    "}, inplace=True)\n",
    "\n",
    "diff_3 = sht_15_share.set_index('ELECTORAL_DISTRICT').sub(sht_20_share.set_index('ELECTORAL_DISTRICT'), axis=0)\n",
    "diff_3.reset_index(inplace=True)\n",
    "diff_3.rename(columns={\n",
    "\t'P.N.M._VOTES_%': 'P.N.M._VOTES_%_CHANGE',\n",
    "\t'U.N.C._VOTES_%': 'U.N.C._VOTES_%_CHANGE',\n",
    "\t'C.O.P._VOTES_%': 'C.O.P._VOTES_%_CHANGE'\n",
    "}, inplace=True)\n",
    "\n",
    "\n"
   ]
  },
  {
   "cell_type": "markdown",
   "id": "4aaf9cfb",
   "metadata": {},
   "source": [
    "Output of Elasticity Change in  Percentage"
   ]
  },
  {
   "cell_type": "code",
   "execution_count": null,
   "id": "7562fca8",
   "metadata": {},
   "outputs": [],
   "source": [
    "print(diff_1)\n"
   ]
  },
  {
   "cell_type": "code",
   "execution_count": null,
   "id": "f5c19a50",
   "metadata": {},
   "outputs": [],
   "source": [
    "print(diff_2)"
   ]
  },
  {
   "cell_type": "code",
   "execution_count": null,
   "id": "f889d8d2",
   "metadata": {},
   "outputs": [],
   "source": [
    "print(diff_3)"
   ]
  },
  {
   "cell_type": "markdown",
   "id": "282ad909",
   "metadata": {},
   "source": [
    "## Creation of master dataframe and model training follows"
   ]
  },
  {
   "cell_type": "code",
   "execution_count": null,
   "id": "afd46a76",
   "metadata": {},
   "outputs": [],
   "source": [
    "socioeconomic_df = pd.read_csv(r\"csvs/socio-economic-indicators-collated copy.csv\")\n",
    "socioeconomic_df.columns = socioeconomic_df.columns.str.strip()"
   ]
  },
  {
   "cell_type": "code",
   "execution_count": null,
   "id": "887fed6b",
   "metadata": {},
   "outputs": [],
   "source": [
    "tt_gdp_df = pd.read_csv(r\"csvs/tt_gdp.csv\")\n",
    "tt_gdp_df['date'] = tt_gdp_df['date'].astype(\"int64\")\n",
    "\n",
    "tt_gdp_df = tt_gdp_df.rename(columns={\"date\": \"Year\"})\n",
    "tt_gdp_df = tt_gdp_df.rename(columns={\"value\": \"GDP_(US$)\"})\n",
    "\n",
    "tt_gdp_df = tt_gdp_df.drop(columns={\"country\", \"countryiso3code\", \"unit\", \"indicator\", \"obs_status\", \"decimal\", \"Unnamed: 0\"})\n",
    "\n",
    "#only keeping years 2000-2025\n",
    "tt_gdp_df = tt_gdp_df[tt_gdp_df['Year'].between(2000, 2025)]"
   ]
  },
  {
   "cell_type": "code",
   "execution_count": null,
   "id": "8246a393",
   "metadata": {},
   "outputs": [],
   "source": [
    "tt_gdp_df"
   ]
  },
  {
   "cell_type": "code",
   "execution_count": null,
   "id": "91867cfa",
   "metadata": {},
   "outputs": [],
   "source": [
    "socioeconomic_df = pd.merge(socioeconomic_df, tt_gdp_df, on='Year', how='outer')"
   ]
  },
  {
   "cell_type": "code",
   "execution_count": null,
   "id": "2719991c",
   "metadata": {},
   "outputs": [],
   "source": [
    "\n",
    "socioeconomic_df[\"GDP (Per Capita TT$)\"] = socioeconomic_df[\"GDP (Per Capita TT$)\"].str.replace(',', '').astype(float)\n",
    "\n",
    "#to USD\n",
    "socioeconomic_df[\"GDP (Per Capita TT$)\"] = (socioeconomic_df[\"GDP (Per Capita TT$)\"] / 6.8).round(2)\n",
    "socioeconomic_df = socioeconomic_df.rename(columns={\"GDP (Per Capita TT$)\": \"GDP (Per Capita US$)\"})\n",
    "# Display the updated dataframe\n",
    "socioeconomic_df"
   ]
  },
  {
   "cell_type": "code",
   "execution_count": null,
   "id": "6d4dbf67",
   "metadata": {},
   "outputs": [],
   "source": [
    "socioeconomic_df.to_csv(r\"csvs/socioeconomic_df_gdp_added.csv\", index=False)"
   ]
  },
  {
   "cell_type": "code",
   "execution_count": null,
   "id": "35f9de62",
   "metadata": {},
   "outputs": [],
   "source": [
    "def calculate_one_year_growth(df, column_name):\n",
    "    df[f'{column_name}_1y'] = np.log(df[column_name] / df[column_name].shift(1))\n",
    "    return df"
   ]
  },
  {
   "cell_type": "code",
   "execution_count": null,
   "id": "b0287875",
   "metadata": {},
   "outputs": [],
   "source": [
    "def calculate_one_term_growth(df, column_name, election_year_gap):\n",
    "    df[f'{column_name}_1t'] = np.log(df[column_name] / df[column_name].shift(election_year_gap))\n",
    "    \n",
    "    return df"
   ]
  },
  {
   "cell_type": "code",
   "execution_count": null,
   "id": "de1b73b5",
   "metadata": {},
   "outputs": [],
   "source": [
    "sht_07['Year'] = 2007\n",
    "soc_info_07 = socioeconomic_df\n",
    "soc_info_07 = calculate_one_term_growth(soc_info_07, 'GNI (Per Capita US $)', 7)\n",
    "soc_info_07 = calculate_one_year_growth(soc_info_07, 'GNI (Per Capita US $)')\n",
    "soc_info_07 = calculate_one_term_growth(soc_info_07, 'Inflation', 7)\n",
    "soc_info_07 = calculate_one_year_growth(soc_info_07, 'Inflation')\n",
    "soc_info_07 = calculate_one_term_growth(soc_info_07, 'Unemployment', 7)\n",
    "soc_info_07 = calculate_one_year_growth(soc_info_07, 'Unemployment')\n",
    "soc_info_07 = calculate_one_term_growth(soc_info_07, 'Net Migration Rate', 7)\n",
    "soc_info_07 = calculate_one_year_growth(soc_info_07, 'Net Migration Rate')\n",
    "soc_info_07 = calculate_one_term_growth(soc_info_07, 'GDP (Per Capita US$)', 7)\n",
    "soc_info_07 = calculate_one_year_growth(soc_info_07, 'GDP (Per Capita US$)')\n",
    "soc_info_07 = calculate_one_term_growth(soc_info_07, 'GDP_(US$)', 7)\n",
    "soc_info_07 = calculate_one_year_growth(soc_info_07, 'GDP_(US$)')\n",
    "soc_07 = soc_info_07[soc_info_07['Year'] == 2007]\n"
   ]
  },
  {
   "cell_type": "code",
   "execution_count": null,
   "id": "8888f270",
   "metadata": {},
   "outputs": [],
   "source": [
    "sht_10['Year'] = 2010\n",
    "soc_info_10 = socioeconomic_df\n",
    "soc_info_10 = calculate_one_term_growth(soc_info_10, 'GNI (Per Capita US $)', 10)\n",
    "soc_info_10 = calculate_one_year_growth(soc_info_10, 'GNI (Per Capita US $)')\n",
    "soc_info_10 = calculate_one_term_growth(soc_info_10, 'Inflation', 10)\n",
    "soc_info_10 = calculate_one_year_growth(soc_info_10, 'Inflation')\n",
    "soc_info_10 = calculate_one_term_growth(soc_info_10, 'Unemployment', 10)\n",
    "soc_info_10 = calculate_one_year_growth(soc_info_10, 'Unemployment')\n",
    "soc_info_10 = calculate_one_term_growth(soc_info_10, 'Net Migration Rate', 10)\n",
    "soc_info_10 = calculate_one_year_growth(soc_info_10, 'Net Migration Rate')\n",
    "soc_info_10 = calculate_one_term_growth(soc_info_10, 'GDP (Per Capita US$)', 10)\n",
    "soc_info_10 = calculate_one_year_growth(soc_info_10, 'GDP (Per Capita US$)')\n",
    "soc_info_10 = calculate_one_term_growth(soc_info_10, 'GDP_(US$)', 10)\n",
    "soc_info_10 = calculate_one_year_growth(soc_info_10, 'GDP_(US$)')\n",
    "soc_10 = soc_info_10[soc_info_10['Year'] == 2010]\n"
   ]
  },
  {
   "cell_type": "code",
   "execution_count": null,
   "id": "eaefebf0",
   "metadata": {},
   "outputs": [],
   "source": [
    "sht_15['Year'] = 2015\n",
    "soc_info_15 = socioeconomic_df\n",
    "soc_info_15 = calculate_one_term_growth(soc_info_15, 'GNI (Per Capita US $)', 15)\n",
    "soc_info_15 = calculate_one_year_growth(soc_info_15, 'GNI (Per Capita US $)')\n",
    "soc_info_15 = calculate_one_term_growth(soc_info_15, 'Inflation', 15)\n",
    "soc_info_15 = calculate_one_year_growth(soc_info_15, 'Inflation')\n",
    "soc_info_15 = calculate_one_term_growth(soc_info_15, 'Unemployment', 15)\n",
    "soc_info_15 = calculate_one_year_growth(soc_info_15, 'Unemployment')\n",
    "soc_info_15 = calculate_one_term_growth(soc_info_15, 'Net Migration Rate', 15)\n",
    "soc_info_15 = calculate_one_year_growth(soc_info_15, 'Net Migration Rate')\n",
    "soc_info_15 = calculate_one_term_growth(soc_info_15, 'GDP (Per Capita US$)', 15)\n",
    "soc_info_15 = calculate_one_year_growth(soc_info_15, 'GDP (Per Capita US$)')\n",
    "soc_info_15 = calculate_one_term_growth(soc_info_15, 'GDP_(US$)', 15)\n",
    "soc_info_15 = calculate_one_year_growth(soc_info_15, 'GDP_(US$)')\n",
    "soc_15 = soc_info_15[soc_info_15['Year'] == 2015]"
   ]
  },
  {
   "cell_type": "code",
   "execution_count": null,
   "id": "6eb4a466",
   "metadata": {},
   "outputs": [],
   "source": [
    "sht_20['Year'] = 2020\n",
    "soc_info_20 = socioeconomic_df\n",
    "soc_info_20 = calculate_one_term_growth(soc_info_20, 'GNI (Per Capita US $)', 20)\n",
    "soc_info_20 = calculate_one_year_growth(soc_info_20, 'GNI (Per Capita US $)')\n",
    "soc_info_20 = calculate_one_term_growth(soc_info_20, 'Inflation', 20)\n",
    "soc_info_20 = calculate_one_year_growth(soc_info_20, 'Inflation')\n",
    "soc_info_20 = calculate_one_term_growth(soc_info_20, 'Unemployment', 20)\n",
    "soc_info_20 = calculate_one_year_growth(soc_info_20, 'Unemployment')\n",
    "soc_info_20 = calculate_one_term_growth(soc_info_20, 'Net Migration Rate', 20)\n",
    "soc_info_20 = calculate_one_year_growth(soc_info_20, 'Net Migration Rate')\n",
    "soc_info_20 = calculate_one_term_growth(soc_info_20, 'GDP (Per Capita US$)', 20)\n",
    "soc_info_20 = calculate_one_year_growth(soc_info_20, 'GDP (Per Capita US$)')\n",
    "soc_info_20 = calculate_one_term_growth(soc_info_20, 'GDP_(US$)', 20)\n",
    "soc_info_20 = calculate_one_year_growth(soc_info_20, 'GDP_(US$)')\n",
    "soc_20 = soc_info_20[soc_info_20['Year'] == 2020]"
   ]
  },
  {
   "cell_type": "code",
   "execution_count": null,
   "id": "70318812",
   "metadata": {},
   "outputs": [],
   "source": [
    "merged_07 = pd.merge(sht_07, soc_07, on='Year', how='inner')\n",
    "merged_10 = pd.merge(sht_10, soc_10, on='Year', how='inner')\n",
    "merged_15 = pd.merge(sht_15, soc_15, on='Year', how='inner')\n",
    "merged_20 = pd.merge(sht_20, soc_20, on='Year', how='inner')\n",
    "\n",
    "master_df = pd.concat([merged_07, merged_10, merged_15, merged_20], ignore_index=True)\n",
    "master_df.fillna(0, inplace=True)"
   ]
  },
  {
   "cell_type": "code",
   "execution_count": null,
   "id": "23a5697b",
   "metadata": {},
   "outputs": [],
   "source": [
    "master_df.to_csv(r\"csvs/master_df.csv\", index=False)\n",
    "master_df.info() #growth rate is an object, need to convert to float"
   ]
  },
  {
   "cell_type": "code",
   "execution_count": null,
   "id": "23642e06",
   "metadata": {},
   "outputs": [],
   "source": [
    "print(soc_info_07.columns.tolist()) #lazy to type out all the columns"
   ]
  },
  {
   "cell_type": "code",
   "execution_count": null,
   "id": "dad5b511",
   "metadata": {},
   "outputs": [],
   "source": [
    "import seaborn as sns\n",
    "import matplotlib.pyplot as plt\n",
    "\n",
    "# Select only numeric features\n",
    "numeric_df = soc_info_07.select_dtypes(include='number')\n",
    "\n",
    "# Compute correlation matrix\n",
    "corr_matrix = numeric_df.corr()\n",
    "\n",
    "# Plot the heatmap\n",
    "plt.figure(figsize=(12, 10))\n",
    "sns.clustermap(corr_matrix, annot=True, cmap='coolwarm', figsize=(10, 10), linewidths=0.5)\n",
    "plt.suptitle(\"Clustered Correlation Matrix\", y=1.02)\n",
    "plt.show()"
   ]
  },
  {
   "cell_type": "markdown",
   "id": "d29acfd1",
   "metadata": {},
   "source": [
    "## Model Training\n",
    "SVM"
   ]
  },
  {
   "cell_type": "code",
   "execution_count": null,
   "id": "8bd77e76",
   "metadata": {},
   "outputs": [],
   "source": [
    "from sklearn.metrics import r2_score\n",
    "from sklearn.svm import SVR\n",
    "from sklearn.model_selection import train_test_split\n",
    "from sklearn.metrics import mean_squared_error\n",
    "from sklearn.preprocessing import StandardScaler\n",
    "\n",
    "\n",
    "df = master_df.copy()\n",
    "\n",
    "features = ['Year', 'Homicide_rate_per_100k', 'Annual (Percentage Change)', 'Inflation', 'Net Migration Rate', 'GNI (Per Capita US $)_1t', 'GNI (Per Capita US $)_1y', 'Inflation_1t', 'Inflation_1y', \n",
    "            'Unemployment_1t','Unemployment_1y', 'Net Migration Rate_1t', 'Net Migration Rate_1y', 'GDP (Per Capita US$)_1t', 'GDP (Per Capita US$)_1y', 'GDP_(US$)_1t',\n",
    "            'GDP_(US$)_1y', 'VOTER_TURNOUT', 'REJECTED_BALLOTS', 'VALID_VOTES'] \n",
    "target = 'P.N.M._VOTES_%'  # P.N.M. vote share as the target\n",
    "\n",
    "X = df[features]\n",
    "y = df[target]\n",
    "\n",
    "\n",
    "scaler = StandardScaler()\n",
    "X_scaled = scaler.fit_transform(X)\n",
    "\n",
    "X_train, X_test, y_train, y_test = train_test_split(X_scaled, y, test_size=0.2, random_state=42)\n",
    "\n",
    "# initialize and train the Support Vector Regression model\n",
    "svr = SVR(kernel='linear')  # change kernel as needed\n",
    "svr.fit(X_train, y_train)\n",
    "\n",
    "y_pred = svr.predict(X_test)\n",
    "\n",
    "#mse for eval\n",
    "mse = mean_squared_error(y_test, y_pred)\n",
    "print(f\"Mean Squared Error: {mse}\")\n",
    "\n",
    "r2 = r2_score(y_test, y_pred)\n",
    "print(f\"R² score: {r2}\")\n",
    "\n",
    "results = pd.DataFrame({'Actual': y_test, 'Predicted': y_pred})\n",
    "print(results.head())"
   ]
  },
  {
   "cell_type": "markdown",
   "id": "8cb49594",
   "metadata": {},
   "source": [
    "Multinomial Logistic Regression"
   ]
  },
  {
   "cell_type": "code",
   "execution_count": 417,
   "id": "a062792d",
   "metadata": {},
   "outputs": [
    {
     "name": "stdout",
     "output_type": "stream",
     "text": [
      "Number of Safe Seats: 120\n",
      "Number of Marginal Seats: 21\n"
     ]
    }
   ],
   "source": [
    "from sklearn.model_selection import train_test_split\n",
    "from sklearn.metrics import mean_squared_error\n",
    "\n",
    "df = master_df.copy()\n",
    "\n",
    "# Add a column for the winning party\n",
    "df['Winning_Party'] = df[['P.N.M._VOTES_%', 'U.N.C._VOTES_%']].idxmax(axis=1)\n",
    "\n",
    "# Add a column for the margin of victory\n",
    "df['Margin_of_Victory'] = df[['P.N.M._VOTES_%', 'U.N.C._VOTES_%']].apply(\n",
    "    lambda row: row.max() - sorted(row)[-2], axis=1\n",
    ")\n",
    "\n",
    "# Define thresholds\n",
    "safe_vote_share_threshold = 0.60  # Safe seat if vote share > 60%\n",
    "safe_margin_threshold = 0.20      # Safe seat if margin of victory > 20%\n",
    "marginal_margin_threshold = 0.10  # Marginal seat if margin of victory < 10%\n",
    "\n",
    "# Identify safe seats\n",
    "safe_seats = df[\n",
    "    (df['Margin_of_Victory'] > safe_margin_threshold) |\n",
    "    (df[['P.N.M._VOTES_%', 'U.N.C._VOTES_%']].max(axis=1) > safe_vote_share_threshold)\n",
    "]\n",
    "\n",
    "# Identify marginal seats\n",
    "marginal_seats = df[df['Margin_of_Victory'] < marginal_margin_threshold]\n",
    "\n",
    "print(\"Number of Safe Seats:\", len(safe_seats))\n",
    "print(\"Number of Marginal Seats:\", len(marginal_seats))\n",
    "\n",
    "df.to_csv(r\"csvs/master_df_with_seat_analysis.csv\", index=False)"
   ]
  },
  {
   "cell_type": "code",
   "execution_count": 420,
   "id": "eecea22d",
   "metadata": {},
   "outputs": [
    {
     "name": "stdout",
     "output_type": "stream",
     "text": [
      "Classification Report for Safe Seats:\n",
      "\n",
      "              precision    recall  f1-score   support\n",
      "\n",
      "           0       0.93      1.00      0.97        14\n",
      "           1       1.00      0.90      0.95        10\n",
      "\n",
      "    accuracy                           0.96        24\n",
      "   macro avg       0.97      0.95      0.96        24\n",
      "weighted avg       0.96      0.96      0.96        24\n",
      "\n",
      "\n",
      "Confusion Matrix for Safe Seats:\n",
      "\n",
      "[[14  0]\n",
      " [ 1  9]]\n"
     ]
    },
    {
     "name": "stderr",
     "output_type": "stream",
     "text": [
      "/opt/anaconda3/lib/python3.12/site-packages/sklearn/linear_model/_logistic.py:1237: FutureWarning: 'multi_class' was deprecated in version 1.5 and will be removed in 1.7. From then on, binary problems will be fit as proper binary  logistic regression models (as if multi_class='ovr' were set). Leave it to its default value to avoid this warning.\n",
      "  warnings.warn(\n"
     ]
    }
   ],
   "source": [
    "from sklearn.linear_model import LogisticRegression, LinearRegression\n",
    "from sklearn.metrics import classification_report, confusion_matrix, accuracy_score\n",
    "\n",
    "# Prepare data for classification\n",
    "X_safe = safe_seats[features]\n",
    "y_safe = safe_seats['Winning_Party']\n",
    "\n",
    "# Encode the target variable\n",
    "y_safe_encoded = y_safe.astype('category').cat.codes\n",
    "\n",
    "# Split the data\n",
    "X_safe_train, X_safe_test, y_safe_train, y_safe_test = train_test_split(X_safe, y_safe_encoded, test_size=0.2, random_state=42)\n",
    "\n",
    "# Fit a classification model\n",
    "clf = LogisticRegression(multi_class='multinomial', solver='lbfgs', max_iter=1000)\n",
    "clf.fit(X_safe_train, y_safe_train)\n",
    "\n",
    "# Make predictions\n",
    "y_safe_pred = clf.predict(X_safe_test)\n",
    "\n",
    "# Evaluate the classification model\n",
    "print(\"Classification Report for Safe Seats:\\n\")\n",
    "print(classification_report(y_safe_test, y_safe_pred))\n",
    "\n",
    "print(\"\\nConfusion Matrix for Safe Seats:\\n\")\n",
    "print(confusion_matrix(y_safe_test, y_safe_pred))"
   ]
  },
  {
   "cell_type": "code",
   "execution_count": 421,
   "id": "75188212",
   "metadata": {},
   "outputs": [
    {
     "name": "stdout",
     "output_type": "stream",
     "text": [
      "Mean Squared Error for Marginal Seats:  0.00028561554780986656\n",
      "R-squared for Marginal Seats:  0.7905641695512453\n",
      "\n",
      "Marginal Seats Regression Results:\n",
      "\n",
      "     Actual_Vote_Share  Predicted_Vote_Share\n",
      "9             0.403055              0.417828\n",
      "147           0.471755              0.469981\n",
      "128           0.459858              0.480711\n",
      "14            0.389306              0.416359\n",
      "81            0.478502              0.484828\n"
     ]
    }
   ],
   "source": [
    "# Prepare data for regression\n",
    "X_marginal = marginal_seats[features]\n",
    "y_marginal = marginal_seats['P.N.M._VOTES_%']  # Example: Predicting P.N.M. vote share\n",
    "\n",
    "# Split the data\n",
    "X_marginal_train, X_marginal_test, y_marginal_train, y_marginal_test = train_test_split(X_marginal, y_marginal, test_size=0.2, random_state=42)\n",
    "\n",
    "# Fit a regression model\n",
    "reg = LinearRegression()\n",
    "reg.fit(X_marginal_train, y_marginal_train)\n",
    "\n",
    "# Make predictions\n",
    "y_marginal_pred = reg.predict(X_marginal_test)\n",
    "\n",
    "# Evaluate the regression model\n",
    "print(\"Mean Squared Error for Marginal Seats: \", mean_squared_error(y_marginal_test, y_marginal_pred))\n",
    "print(\"R-squared for Marginal Seats: \", r2_score(y_marginal_test, y_marginal_pred))\n",
    "\n",
    "# Create a DataFrame to compare actual and predicted values\n",
    "marginal_results_df = pd.DataFrame({\n",
    "    'Actual_Vote_Share': y_marginal_test,\n",
    "    'Predicted_Vote_Share': y_marginal_pred\n",
    "})\n",
    "\n",
    "print(\"\\nMarginal Seats Regression Results:\\n\")\n",
    "print(marginal_results_df.head())"
   ]
  },
  {
   "cell_type": "code",
   "execution_count": 422,
   "id": "2fb6a9f2",
   "metadata": {},
   "outputs": [
    {
     "name": "stdout",
     "output_type": "stream",
     "text": [
      "Mean Squared Error for Marginal Seats:  0.00014823207553786761\n",
      "R-squared for Marginal Seats:  0.9496234386736381\n",
      "\n",
      "Marginal Seats Regression Results:\n",
      "\n",
      "     Actual_Vote_Share  Predicted_Vote_Share\n",
      "9             0.416860              0.406166\n",
      "147           0.525203              0.522257\n",
      "128           0.527185              0.504250\n",
      "14            0.408823              0.415092\n",
      "81            0.517337              0.510069\n"
     ]
    }
   ],
   "source": [
    "# Prepare data for regression\n",
    "X_marginal = marginal_seats[features]\n",
    "y_marginal = marginal_seats['U.N.C._VOTES_%']  # Example: Predicting P.N.M. vote share\n",
    "\n",
    "# Split the data\n",
    "X_marginal_train, X_marginal_test, y_marginal_train, y_marginal_test = train_test_split(X_marginal, y_marginal, test_size=0.2, random_state=42)\n",
    "\n",
    "# Fit a regression model\n",
    "reg = LinearRegression()\n",
    "reg.fit(X_marginal_train, y_marginal_train)\n",
    "\n",
    "# Make predictions\n",
    "y_marginal_pred = reg.predict(X_marginal_test)\n",
    "\n",
    "# Evaluate the regression model\n",
    "print(\"Mean Squared Error for Marginal Seats: \", mean_squared_error(y_marginal_test, y_marginal_pred))\n",
    "print(\"R-squared for Marginal Seats: \", r2_score(y_marginal_test, y_marginal_pred))\n",
    "\n",
    "# Create a DataFrame to compare actual and predicted values\n",
    "marginal_results_df = pd.DataFrame({\n",
    "    'Actual_Vote_Share': y_marginal_test,\n",
    "    'Predicted_Vote_Share': y_marginal_pred\n",
    "})\n",
    "\n",
    "print(\"\\nMarginal Seats Regression Results:\\n\")\n",
    "print(marginal_results_df.head())"
   ]
  }
 ],
 "metadata": {
  "kernelspec": {
   "display_name": "base",
   "language": "python",
   "name": "python3"
  },
  "language_info": {
   "codemirror_mode": {
    "name": "ipython",
    "version": 3
   },
   "file_extension": ".py",
   "mimetype": "text/x-python",
   "name": "python",
   "nbconvert_exporter": "python",
   "pygments_lexer": "ipython3",
   "version": "3.12.7"
  }
 },
 "nbformat": 4,
 "nbformat_minor": 5
}
