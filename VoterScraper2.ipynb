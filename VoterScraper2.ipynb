{
 "cells": [
  {
   "cell_type": "markdown",
   "metadata": {},
   "source": []
  },
  {
   "cell_type": "markdown",
   "metadata": {},
   "source": []
  },
  {
   "cell_type": "markdown",
   "metadata": {},
   "source": []
  },
  {
   "cell_type": "code",
   "execution_count": 4,
   "metadata": {},
   "outputs": [],
   "source": [
    "from selenium import webdriver\n",
    "from selenium.webdriver.common.keys import Keys\n",
    "from selenium.webdriver.common.by import By"
   ]
  },
  {
   "cell_type": "code",
   "execution_count": 5,
   "metadata": {},
   "outputs": [
    {
     "ename": "SyntaxError",
     "evalue": "invalid character '‘' (U+2018) (3754219809.py, line 3)",
     "output_type": "error",
     "traceback": [
      "\u001b[1;36m  Cell \u001b[1;32mIn[5], line 3\u001b[1;36m\u001b[0m\n\u001b[1;33m    opts.add_argument(‘ — headless’)\u001b[0m\n\u001b[1;37m                      ^\u001b[0m\n\u001b[1;31mSyntaxError\u001b[0m\u001b[1;31m:\u001b[0m invalid character '‘' (U+2018)\n"
     ]
    }
   ],
   "source": [
    "#defining browser and adding the “ — headless” argument\n",
    "opts = Options()\n",
    "opts.add_argument(‘ — headless’)\n",
    "driver = webdriver.Chrome(‘chromedriver’, options=opts)"
   ]
  },
  {
   "cell_type": "markdown",
   "metadata": {},
   "source": []
  },
  {
   "cell_type": "code",
   "execution_count": null,
   "metadata": {},
   "outputs": [
    {
     "name": "stdout",
     "output_type": "stream",
     "text": [
      "None\n"
     ]
    }
   ],
   "source": [
    "from selenium import webdriver\n",
    "from selenium.webdriver.chrome.service import Service\n",
    "from selenium.webdriver.common.by import By\n",
    "from selenium.webdriver.chrome.options import Options\n",
    "from bs4 import BeautifulSoup\n",
    "import time\n",
    "\n",
    "# Set up Selenium WebDriver\n",
    "options = Options()\n",
    "options.add_argument(\"--headless\")  # Run in headless mode (no browser window)\n",
    "options.add_argument(\"--disable-gpu\")\n",
    "options.add_argument(\"--no-sandbox\")\n",
    "options.add_argument(\"--log-level=3\")  # Suppress logs\n",
    "\n",
    "# Specify the path to ChromeDriver (update this path if necessary)\n",
    "service = Service(\"D:/UWI/Year 3/Sem 2/COMP3610-Big-Data/Project/Project Clone 1/COMP-3610-Project/chromedriver.exe\")  # Replace with the correct path\n",
    "\n",
    "# Initialize WebDriver\n",
    "driver = webdriver.Chrome(service=service, options=options)\n",
    "\n",
    "# URL to scrape\n",
    "url = \"https://www.thepicongparty.com/all-seats?year=10\"\n",
    "\n",
    "# Open the webpage\n",
    "driver.get(url)\n",
    "\n",
    "# Wait for JavaScript to load content\n",
    "# time.sleep(5)  # Adjust if needed\n",
    "\n",
    "# Get the page source after JS execution\n",
    "soup = BeautifulSoup(driver.page_source, \"html.parser\")\n",
    "table = soup.find(\"h2\", class_=\"text-3xl font-bold mb-8 text-center\")\n",
    "\n",
    "# Close the browser session\n",
    "driver.quit()\n",
    "\n",
    "# Extract data\n",
    "constituency_sections = soup.find_all(\"div\", class_=\"flex flex-col lg:flex-row gap-8\")\n",
    "\n",
    "\n",
    "print(constituency_sections)\n",
    "# # Print extracted data\n",
    "# for section in constituency_sections:\n",
    "#     print(section.text.strip())\n",
    "\n",
    "# # If you want to save the results to a file\n",
    "# with open(\"output.txt\", \"w\", encoding=\"utf-8\") as f:\n",
    "#     for section in constituency_sections:\n",
    "#         f.write(section.text.strip() + \"\\n\")\n"
   ]
  }
 ],
 "metadata": {
  "kernelspec": {
   "display_name": "base",
   "language": "python",
   "name": "python3"
  },
  "language_info": {
   "codemirror_mode": {
    "name": "ipython",
    "version": 3
   },
   "file_extension": ".py",
   "mimetype": "text/x-python",
   "name": "python",
   "nbconvert_exporter": "python",
   "pygments_lexer": "ipython3",
   "version": "3.11.7"
  }
 },
 "nbformat": 4,
 "nbformat_minor": 2
}
