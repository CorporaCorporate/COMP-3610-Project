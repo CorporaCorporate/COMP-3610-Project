{
 "cells": [
  {
   "cell_type": "markdown",
   "metadata": {},
   "source": [
    "COMP 3610\n",
    "Project"
   ]
  },
  {
   "cell_type": "markdown",
   "metadata": {},
   "source": [
    "### A PREDICTIVE MODEL FOR ELECTORAL OUTCOMES IN TRINIDAD & TOBAGO"
   ]
  },
  {
   "cell_type": "markdown",
   "metadata": {},
   "source": [
    "Christophe Gittens - \n",
    "Maia Neptune       -\n",
    "Zidane Timothy     - 816034823"
   ]
  },
  {
   "cell_type": "code",
   "execution_count": 55,
   "metadata": {},
   "outputs": [],
   "source": [
    "# initialize Program\n",
    "# %pip install requests beautifulsoup4 python-csv\n",
    "# %pip install pandas\n",
    "\n",
    "import requests\n",
    "import pandas as pd\n",
    "import csv\n",
    "from bs4 import BeautifulSoup\n",
    "from selenium import webdriver\n",
    "\n",
    "# year numbers to be passed in \n",
    "\n",
    "\n",
    "ballot_url = \"https://www.thepicongparty.com/all-seats?year=10\" \n",
    "page = requests.get(ballot_url)\n",
    "info = BeautifulSoup(page.content, \"html.parser\")"
   ]
  },
  {
   "cell_type": "markdown",
   "metadata": {},
   "source": []
  },
  {
   "cell_type": "code",
   "execution_count": 56,
   "metadata": {},
   "outputs": [
    {
     "name": "stdout",
     "output_type": "stream",
     "text": [
      "<Response [200]>\n"
     ]
    }
   ],
   "source": [
    "req = requests.get(url=ballot_url)\n",
    "\n",
    "if req.status_code == 200:\n",
    "    print(req)\n",
    "else:\n",
    "    print('Failed to get a 200 status code')"
   ]
  },
  {
   "cell_type": "markdown",
   "metadata": {},
   "source": []
  },
  {
   "cell_type": "code",
   "execution_count": 57,
   "metadata": {},
   "outputs": [
    {
     "data": {
      "text/plain": [
       "[]"
      ]
     },
     "execution_count": 57,
     "metadata": {},
     "output_type": "execute_result"
    }
   ],
   "source": [
    "# Find all the constituency result sections\n",
    "soup = BeautifulSoup(req.content) \n",
    "constituency_sections = soup.find_all(\"div\", class_=\"flex flex-col lg:flex-row gap-8\")\n",
    "\n",
    "constituency_sections\n",
    "\n",
    "# # Initialize a list to store the results\n",
    "# results = []\n",
    "\n",
    "# # Loop through each section and extract the relevant information\n",
    "# for section in constituency_sections:\n",
    "#     constituency_name = section.find(\"h2\", class_=\"text-3xl font-bold mb-8 text-center\").text.strip()\n",
    "#     candidates = section.find_all(\"div\", class_=\"candidate-info\")\n",
    "    \n",
    "#     for candidate in candidates:\n",
    "#         candidate_name = candidate.find(\"span\", class_=\"candidate-name\").text.strip()\n",
    "#         candidate_party = candidate.find(\"span\", class_=\"candidate-party\").text.strip()\n",
    "#         candidate_votes = candidate.find(\"span\", class_=\"candidate-votes\").text.strip()\n",
    "        \n",
    "#         results.append({\n",
    "#             \"Constituency\": constituency_name,\n",
    "#             \"Candidate\": candidate_name,\n",
    "#             \"Party\": candidate_party,\n",
    "#             \"Votes\": candidate_votes\n",
    "#         })\n",
    "\n",
    "# # Convert the results to a DataFrame\n",
    "# df_results = pd.DataFrame(results)\n",
    "# print(df_results)"
   ]
  },
  {
   "cell_type": "code",
   "execution_count": 58,
   "metadata": {},
   "outputs": [],
   "source": [
    "# scrape all the content from the page:"
   ]
  },
  {
   "cell_type": "code",
   "execution_count": 59,
   "metadata": {},
   "outputs": [
    {
     "name": "stdout",
     "output_type": "stream",
     "text": [
      "None\n"
     ]
    }
   ],
   "source": [
    "soup = BeautifulSoup(req.content, 'lxml') \n",
    "# # table = soup.find(\"h2\", class_=\"text-3xl font-bold mb-8 text-center\")\n",
    "# table = soup.findAll(\"span\", class_=\"bg-clip-text text-transparent bg-gradient-to-r from-red-600 to-yellow-600 border-b-4 border-red-400 pb-2\") #, class_=\"bg-clip-text text-transparent bg-gradient-to-r from-red-600 to-yellow-600 border-b-4 border-red-400 pb-2\")\n",
    "# table = soup.findAll(\"span\")\n",
    "table = soup.find(\"div\", class_=\"flex flex-col lg:flex-row gap-8\")\n",
    "\n",
    "# print(soup)\n",
    "print(table)\n",
    "# print(soup)"
   ]
  },
  {
   "cell_type": "code",
   "execution_count": null,
   "metadata": {},
   "outputs": [],
   "source": []
  }
 ],
 "metadata": {
  "kernelspec": {
   "display_name": "base",
   "language": "python",
   "name": "python3"
  },
  "language_info": {
   "codemirror_mode": {
    "name": "ipython",
    "version": 3
   },
   "file_extension": ".py",
   "mimetype": "text/x-python",
   "name": "python",
   "nbconvert_exporter": "python",
   "pygments_lexer": "ipython3",
   "version": "3.11.7"
  }
 },
 "nbformat": 4,
 "nbformat_minor": 2
}
